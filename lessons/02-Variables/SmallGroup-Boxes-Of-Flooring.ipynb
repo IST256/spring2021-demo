{
 "cells": [
  {
   "cell_type": "markdown",
   "metadata": {},
   "source": [
    "# Now You Code In-Class: Boxes Of Flooring\n",
    "\n",
    "High's Home Improvement has hired you to write a mobile app which will estimate the number of boxes of laminate flooring required to cover a room. \n",
    "\n",
    "Things to note:\n",
    "\n",
    "- One box of flooring covers 24.5 square feet. \n",
    "- You should account for 10% waste in any project. This means you should buy 10% more flooring than you need.\n",
    "\n",
    "Write a python program which given the length and width measurement of a room will correctly calculate:\n",
    "\n",
    "- The area of the room in square feet\n",
    "- The project area when accounting for 10% waste\n",
    "- The number of boxes of flooring required, rounded up to the nearest whole box. \n",
    "\n",
    "Example: \n",
    "\n",
    "```\n",
    "*** Boxes of Flooring ***\n",
    "Length of room (ft): 3\n",
    "Width of room (ft): 6\n",
    "\n",
    "Calculations....\n",
    "Room Area: ==> 18.0 square ft\n",
    "Project Area: 18.0 square ft + 1.8 (10% waste) ==> 19.8 square ft\n",
    "Number of boxes at 24.5 square ft: ==> 1\n",
    "```\n",
    "\n",
    "NOTE: Use string formatters or f-strings to display the output to 1 decimal place.\n",
    "\n",
    "HINT: Round up your boxes of flooring to the nearest whole box. `math.ciel()`\n"
   ]
  },
  {
   "cell_type": "markdown",
   "metadata": {
    "collapsed": true
   },
   "source": [
    "## Step 1: Problem Analysis\n",
    "\n",
    "Inputs: length, and width is ft., box sqft\n",
    "\n",
    "Outputs:\n",
    "\n",
    "- area of room\n",
    "- project area 10% more than the area\n",
    "- number of boxes\n",
    "\n",
    "\n",
    "Algorithm (Steps in Program):\n",
    "\n",
    "\n",
    "1. input the length in ft as a float\n",
    "2. input the width in ft as a float\n",
    "2.5 input box sqft\n",
    "3. calculate the area of the room length x width\n",
    "4. print the area of the room\n",
    "5. calculate the project area waste is 10% of area\n",
    "6. calculuate total project area as waste + area\n",
    "7. print the waste plus total project area \n",
    "8. divide the total project by box size as box_count\n",
    "9. calculate the ceiling of box_count as number of boxes\n",
    "10. print number of boxes\n"
   ]
  },
  {
   "cell_type": "code",
   "execution_count": 28,
   "metadata": {},
   "outputs": [
    {
     "name": "stdout",
     "output_type": "stream",
     "text": [
      "Enter Length: 10\n",
      "Enter Width: 5\n",
      "Enter Box SqFt: 24.5\n",
      "Room Area: ==> 50.0 square ft\n",
      "Project Area: 50.0 square ft + 5.0 (10% waste) ==> 55.0 square ft\n",
      "Number of boxes at 24.5 square ft: ==> 3 boxes\n"
     ]
    }
   ],
   "source": [
    "import math\n",
    "# Step 2: Write code here\n",
    "\n",
    "Length = float(input(\"Enter Length: \"))\n",
    "Width = float(input(\"Enter Width: \"))\n",
    "Box_Sqft = float(input(\"Enter Box SqFt: \"))\n",
    "\n",
    "Room_Area = Length * Width\n",
    "print(f\"Room Area: ==> {Room_Area} square ft\")\n",
    "\n",
    "Waste = (Room_Area * 0.1 )\n",
    "Project_Area = (Room_Area + Waste)\n",
    "print(f'Project Area: {Room_Area} square ft + {Waste} (10% waste) ==> {Project_Area} square ft')\n",
    "\n",
    "Boxes = math.ceil(Project_Area / Box_Sqft)\n",
    "print(f\"Number of boxes at {Box_Sqft} square ft: ==> {Boxes} boxes\")\n"
   ]
  },
  {
   "cell_type": "code",
   "execution_count": null,
   "metadata": {},
   "outputs": [],
   "source": []
  }
 ],
 "metadata": {
  "anaconda-cloud": {},
  "kernelspec": {
   "display_name": "Python 3",
   "language": "python",
   "name": "python3"
  },
  "language_info": {
   "codemirror_mode": {
    "name": "ipython",
    "version": 3
   },
   "file_extension": ".py",
   "mimetype": "text/x-python",
   "name": "python",
   "nbconvert_exporter": "python",
   "pygments_lexer": "ipython3",
   "version": "3.7.6"
  },
  "toc": {
   "base_numbering": 1,
   "nav_menu": {},
   "number_sections": false,
   "sideBar": false,
   "skip_h1_title": false,
   "title_cell": "Table of Contents",
   "title_sidebar": "Contents",
   "toc_cell": false,
   "toc_position": {},
   "toc_section_display": false,
   "toc_window_display": false
  }
 },
 "nbformat": 4,
 "nbformat_minor": 1
}
